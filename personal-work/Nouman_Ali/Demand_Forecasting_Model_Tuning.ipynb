{
 "cells": [
  {
   "cell_type": "code",
   "execution_count": 1,
   "metadata": {
    "scrolled": true
   },
   "outputs": [
    {
     "name": "stdout",
     "output_type": "stream",
     "text": [
      "                y\n",
      "ds               \n",
      "2014-11-18  13.39\n",
      "2014-11-19  18.77\n",
      "2014-11-20   6.95\n",
      "2014-11-21  14.14\n",
      "2014-11-22   0.00\n"
     ]
    }
   ],
   "source": [
    "import pandas as pd\n",
    "import numpy as np\n",
    "import matplotlib.pyplot as plt\n",
    "import seaborn as sns\n",
    "from datetime import datetime\n",
    "\n",
    "# Load and fix the date column if needed\n",
    "df = pd.read_csv(\"station_data_dataverse.csv\")\n",
    "df['created'] = df['created'].str.replace('0014', '2014')\n",
    "df['created'] = df['created'].str.replace('0015', '2015')\n",
    "df['created'] = pd.to_datetime(df['created'], format='%Y-%m-%d %H:%M:%S', errors='coerce')\n",
    "df = df.dropna(subset=['created', 'kwhTotal'])\n",
    "\n",
    "# Aggregate daily kWh\n",
    "daily_df = df.groupby(df['created'].dt.date)['kwhTotal'].sum().reset_index()\n",
    "daily_df.columns = ['ds', 'y']\n",
    "daily_df['ds'] = pd.to_datetime(daily_df['ds'])\n",
    "daily_df = daily_df.set_index('ds').asfreq('D').fillna(0)\n",
    "\n",
    "# Confirm data looks good\n",
    "print(daily_df.head())\n"
   ]
  },
  {
   "cell_type": "code",
   "execution_count": 2,
   "metadata": {},
   "outputs": [
    {
     "name": "stdout",
     "output_type": "stream",
     "text": [
      "ADF Statistic: 0.11326778949778259\n",
      "p-value: 0.9669553598229148\n"
     ]
    }
   ],
   "source": [
    "from statsmodels.tsa.stattools import adfuller\n",
    "result = adfuller(daily_df['y'])\n",
    "print(f\"ADF Statistic: {result[0]}\")\n",
    "print(f\"p-value: {result[1]}\")\n"
   ]
  },
  {
   "cell_type": "code",
   "execution_count": 3,
   "metadata": {
    "scrolled": true
   },
   "outputs": [
    {
     "name": "stdout",
     "output_type": "stream",
     "text": [
      "Differenced ADF Statistic: -5.620564940702977\n",
      "Differenced p-value: 1.1476826852984449e-06\n"
     ]
    }
   ],
   "source": [
    "# First-order differencing\n",
    "diff_series = daily_df['y'].diff().dropna()\n",
    "\n",
    "# Re-run ADF test on differenced series\n",
    "from statsmodels.tsa.stattools import adfuller\n",
    "result = adfuller(diff_series)\n",
    "print(f\"Differenced ADF Statistic: {result[0]}\")\n",
    "print(f\"Differenced p-value: {result[1]}\")\n"
   ]
  },
  {
   "cell_type": "code",
   "execution_count": 4,
   "metadata": {
    "scrolled": true
   },
   "outputs": [
    {
     "name": "stdout",
     "output_type": "stream",
     "text": [
      "Performing stepwise search to minimize aic\n",
      " ARIMA(1,1,1)(0,0,0)[0] intercept   : AIC=inf, Time=0.12 sec\n",
      " ARIMA(0,1,0)(0,0,0)[0] intercept   : AIC=3480.575, Time=0.01 sec\n",
      " ARIMA(1,1,0)(0,0,0)[0] intercept   : AIC=3482.235, Time=0.02 sec\n",
      " ARIMA(0,1,1)(0,0,0)[0] intercept   : AIC=3481.713, Time=0.08 sec\n",
      " ARIMA(0,1,0)(0,0,0)[0]             : AIC=3478.575, Time=0.02 sec\n",
      "\n",
      "Best model:  ARIMA(0,1,0)(0,0,0)[0]          \n",
      "Total fit time: 0.256 seconds\n",
      "                               SARIMAX Results                                \n",
      "==============================================================================\n",
      "Dep. Variable:                      y   No. Observations:                  321\n",
      "Model:               SARIMAX(0, 1, 0)   Log Likelihood               -1738.288\n",
      "Date:                Fri, 09 May 2025   AIC                           3478.575\n",
      "Time:                        09:48:39   BIC                           3482.343\n",
      "Sample:                    11-18-2014   HQIC                          3480.080\n",
      "                         - 10-04-2015                                         \n",
      "Covariance Type:                  opg                                         \n",
      "==============================================================================\n",
      "                 coef    std err          z      P>|z|      [0.025      0.975]\n",
      "------------------------------------------------------------------------------\n",
      "sigma2      3060.7698    141.325     21.658      0.000    2783.778    3337.762\n",
      "===================================================================================\n",
      "Ljung-Box (L1) (Q):                   0.35   Jarque-Bera (JB):               203.53\n",
      "Prob(Q):                              0.56   Prob(JB):                         0.00\n",
      "Heteroskedasticity (H):              47.14   Skew:                             0.29\n",
      "Prob(H) (two-sided):                  0.00   Kurtosis:                         6.86\n",
      "===================================================================================\n",
      "\n",
      "Warnings:\n",
      "[1] Covariance matrix calculated using the outer product of gradients (complex-step).\n"
     ]
    }
   ],
   "source": [
    "from pmdarima import auto_arima\n",
    "\n",
    "# Run auto_arima to pick (p, d, q)\n",
    "stepwise_model = auto_arima(daily_df['y'], \n",
    "                            start_p=1, start_q=1,\n",
    "                            max_p=5, max_q=5,\n",
    "                            d=1,               # since we differenced once\n",
    "                            seasonal=False,\n",
    "                            trace=True,\n",
    "                            error_action='ignore',\n",
    "                            suppress_warnings=True,\n",
    "                            stepwise=True)\n",
    "\n",
    "print(stepwise_model.summary())\n"
   ]
  },
  {
   "cell_type": "code",
   "execution_count": 5,
   "metadata": {
    "scrolled": true
   },
   "outputs": [
    {
     "data": {
      "image/png": "[encoded data removed]",
      "text/plain": [
       "<Figure size 1000x500 with 1 Axes>"
      ]
     },
     "metadata": {},
     "output_type": "display_data"
    }
   ],
   "source": [
    "# Forecast next 30 days\n",
    "n_periods = 30\n",
    "forecast, conf_int = stepwise_model.predict(n_periods=n_periods, return_conf_int=True)\n",
    "\n",
    "# Create a date index for plotting\n",
    "future_dates = pd.date_range(start=daily_df.index[-1] + pd.Timedelta(days=1), periods=n_periods)\n",
    "\n",
    "# Plot the forecast\n",
    "import matplotlib.pyplot as plt\n",
    "\n",
    "plt.figure(figsize=(10, 5))\n",
    "plt.plot(daily_df.index, daily_df['y'], label='Historical')\n",
    "plt.plot(future_dates, forecast, label='Forecast', color='orange')\n",
    "plt.fill_between(future_dates, conf_int[:, 0], conf_int[:, 1], color='orange', alpha=0.2)\n",
    "plt.title('ARIMA Forecast of Daily EV Energy Demand')\n",
    "plt.xlabel('Date')\n",
    "plt.ylabel('kWh')\n",
    "plt.legend()\n",
    "plt.tight_layout()\n",
    "plt.show()\n"
   ]
  },
  {
   "cell_type": "code",
   "execution_count": 7,
   "metadata": {},
   "outputs": [],
   "source": [
    "# If not already done\n",
    "daily_df = df.groupby(df['created'].dt.date)['kwhTotal'].sum().reset_index()\n",
    "daily_df.columns = ['ds', 'y']\n",
    "daily_df['ds'] = pd.to_datetime(daily_df['ds'])\n"
   ]
  },
  {
   "cell_type": "code",
   "execution_count": 2,
   "metadata": {},
   "outputs": [
    {
     "name": "stdout",
     "output_type": "stream",
     "text": [
      "Requirement already satisfied: prophet in c:\\users\\hp\\anaconda3\\lib\\site-packages (1.1.6)\n",
      "Requirement already satisfied: cmdstanpy>=1.0.4 in c:\\users\\hp\\anaconda3\\lib\\site-packages (from prophet) (1.2.5)\n",
      "Requirement already satisfied: numpy>=1.15.4 in c:\\users\\hp\\anaconda3\\lib\\site-packages (from prophet) (1.26.4)\n",
      "Requirement already satisfied: matplotlib>=2.0.0 in c:\\users\\hp\\anaconda3\\lib\\site-packages (from prophet) (3.9.2)\n",
      "Requirement already satisfied: pandas>=1.0.4 in c:\\users\\hp\\anaconda3\\lib\\site-packages (from prophet) (2.2.2)\n",
      "Requirement already satisfied: holidays<1,>=0.25 in c:\\users\\hp\\anaconda3\\lib\\site-packages (from prophet) (0.72)\n",
      "Requirement already satisfied: tqdm>=4.36.1 in c:\\users\\hp\\anaconda3\\lib\\site-packages (from prophet) (4.66.5)\n",
      "Requirement already satisfied: importlib-resources in c:\\users\\hp\\anaconda3\\lib\\site-packages (from prophet) (6.5.2)\n",
      "Requirement already satisfied: stanio<2.0.0,>=0.4.0 in c:\\users\\hp\\anaconda3\\lib\\site-packages (from cmdstanpy>=1.0.4->prophet) (0.5.1)\n",
      "Requirement already satisfied: python-dateutil in c:\\users\\hp\\anaconda3\\lib\\site-packages (from holidays<1,>=0.25->prophet) (2.9.0.post0)\n",
      "Requirement already satisfied: contourpy>=1.0.1 in c:\\users\\hp\\anaconda3\\lib\\site-packages (from matplotlib>=2.0.0->prophet) (1.2.0)\n",
      "Requirement already satisfied: cycler>=0.10 in c:\\users\\hp\\anaconda3\\lib\\site-packages (from matplotlib>=2.0.0->prophet) (0.11.0)\n",
      "Requirement already satisfied: fonttools>=4.22.0 in c:\\users\\hp\\anaconda3\\lib\\site-packages (from matplotlib>=2.0.0->prophet) (4.51.0)\n",
      "Requirement already satisfied: kiwisolver>=1.3.1 in c:\\users\\hp\\anaconda3\\lib\\site-packages (from matplotlib>=2.0.0->prophet) (1.4.4)\n",
      "Requirement already satisfied: packaging>=20.0 in c:\\users\\hp\\anaconda3\\lib\\site-packages (from matplotlib>=2.0.0->prophet) (24.1)\n",
      "Requirement already satisfied: pillow>=8 in c:\\users\\hp\\anaconda3\\lib\\site-packages (from matplotlib>=2.0.0->prophet) (10.4.0)\n",
      "Requirement already satisfied: pyparsing>=2.3.1 in c:\\users\\hp\\anaconda3\\lib\\site-packages (from matplotlib>=2.0.0->prophet) (3.1.2)\n",
      "Requirement already satisfied: pytz>=2020.1 in c:\\users\\hp\\anaconda3\\lib\\site-packages (from pandas>=1.0.4->prophet) (2024.1)\n",
      "Requirement already satisfied: tzdata>=2022.7 in c:\\users\\hp\\anaconda3\\lib\\site-packages (from pandas>=1.0.4->prophet) (2023.3)\n",
      "Requirement already satisfied: colorama in c:\\users\\hp\\anaconda3\\lib\\site-packages (from tqdm>=4.36.1->prophet) (0.4.6)\n",
      "Requirement already satisfied: six>=1.5 in c:\\users\\hp\\anaconda3\\lib\\site-packages (from python-dateutil->holidays<1,>=0.25->prophet) (1.16.0)\n",
      "Note: you may need to restart the kernel to use updated packages.\n"
     ]
    }
   ],
   "source": [
    "pip install prophet"
   ]
  },
  {
   "cell_type": "code",
   "execution_count": 5,
   "metadata": {},
   "outputs": [
    {
     "ename": "NameError",
     "evalue": "name 'daily_df' is not defined",
     "output_type": "error",
     "traceback": [
      "\u001b[1;31m---------------------------------------------------------------------------\u001b[0m",
      "\u001b[1;31mNameError\u001b[0m                                 Traceback (most recent call last)",
      "Cell \u001b[1;32mIn[5], line 10\u001b[0m\n\u001b[0;32m      1\u001b[0m \u001b[38;5;28;01mfrom\u001b[39;00m \u001b[38;5;21;01mprophet\u001b[39;00m \u001b[38;5;28;01mimport\u001b[39;00m Prophet\n\u001b[0;32m      2\u001b[0m model \u001b[38;5;241m=\u001b[39m Prophet(\n\u001b[0;32m      3\u001b[0m     yearly_seasonality\u001b[38;5;241m=\u001b[39m\u001b[38;5;28;01mTrue\u001b[39;00m,\n\u001b[0;32m      4\u001b[0m     weekly_seasonality\u001b[38;5;241m=\u001b[39m\u001b[38;5;28;01mTrue\u001b[39;00m,\n\u001b[1;32m   (...)\u001b[0m\n\u001b[0;32m      7\u001b[0m     seasonality_prior_scale\u001b[38;5;241m=\u001b[39m\u001b[38;5;241m10.0\u001b[39m  \u001b[38;5;66;03m# controls seasonality flexibility\u001b[39;00m\n\u001b[0;32m      8\u001b[0m )\n\u001b[1;32m---> 10\u001b[0m model\u001b[38;5;241m.\u001b[39mfit(daily_df)\n",
      "\u001b[1;31mNameError\u001b[0m: name 'daily_df' is not defined"
     ]
    }
   ],
   "source": [
    "from prophet import Prophet\n",
    "model = Prophet(\n",
    "    yearly_seasonality=True,\n",
    "    weekly_seasonality=True,\n",
    "    daily_seasonality=False,\n",
    "    changepoint_prior_scale=0.5,  # controls trend flexibility\n",
    "    seasonality_prior_scale=10.0  # controls seasonality flexibility\n",
    ")\n",
    "\n",
    "model.fit(daily_df)\n"
   ]
  },
  {
   "cell_type": "code",
   "execution_count": 4,
   "metadata": {},
   "outputs": [
    {
     "ename": "NameError",
     "evalue": "name 'model' is not defined",
     "output_type": "error",
     "traceback": [
      "\u001b[1;31m---------------------------------------------------------------------------\u001b[0m",
      "\u001b[1;31mNameError\u001b[0m                                 Traceback (most recent call last)",
      "Cell \u001b[1;32mIn[4], line 1\u001b[0m\n\u001b[1;32m----> 1\u001b[0m future \u001b[38;5;241m=\u001b[39m model\u001b[38;5;241m.\u001b[39mmake_future_dataframe(periods\u001b[38;5;241m=\u001b[39m\u001b[38;5;241m30\u001b[39m)\n\u001b[0;32m      2\u001b[0m forecast \u001b[38;5;241m=\u001b[39m model\u001b[38;5;241m.\u001b[39mpredict(future)\n",
      "\u001b[1;31mNameError\u001b[0m: name 'model' is not defined"
     ]
    }
   ],
   "source": [
    "future = model.make_future_dataframe(periods=30)\n",
    "forecast = model.predict(future)\n"
   ]
  },
  {
   "cell_type": "code",
   "execution_count": 18,
   "metadata": {},
   "outputs": [
    {
     "ename": "NameError",
     "evalue": "name 'model' is not defined",
     "output_type": "error",
     "traceback": [
      "\u001b[1;31m---------------------------------------------------------------------------\u001b[0m",
      "\u001b[1;31mNameError\u001b[0m                                 Traceback (most recent call last)",
      "\u001b[1;32m<ipython-input-18-6831fd1a251e>\u001b[0m in \u001b[0;36m<module>\u001b[1;34m\u001b[0m\n\u001b[0;32m      1\u001b[0m \u001b[1;31m# Forecast plot\u001b[0m\u001b[1;33m\u001b[0m\u001b[1;33m\u001b[0m\u001b[1;33m\u001b[0m\u001b[0m\n\u001b[1;32m----> 2\u001b[1;33m \u001b[0mfig1\u001b[0m \u001b[1;33m=\u001b[0m \u001b[0mmodel\u001b[0m\u001b[1;33m.\u001b[0m\u001b[0mplot\u001b[0m\u001b[1;33m(\u001b[0m\u001b[0mforecast\u001b[0m\u001b[1;33m)\u001b[0m\u001b[1;33m\u001b[0m\u001b[1;33m\u001b[0m\u001b[0m\n\u001b[0m\u001b[0;32m      3\u001b[0m \u001b[0mplt\u001b[0m\u001b[1;33m.\u001b[0m\u001b[0mtitle\u001b[0m\u001b[1;33m(\u001b[0m\u001b[1;34m\"Tuned Prophet Forecast (Weekends Included)\"\u001b[0m\u001b[1;33m)\u001b[0m\u001b[1;33m\u001b[0m\u001b[1;33m\u001b[0m\u001b[0m\n\u001b[0;32m      4\u001b[0m \u001b[0mplt\u001b[0m\u001b[1;33m.\u001b[0m\u001b[0mxlabel\u001b[0m\u001b[1;33m(\u001b[0m\u001b[1;34m\"Date\"\u001b[0m\u001b[1;33m)\u001b[0m\u001b[1;33m\u001b[0m\u001b[1;33m\u001b[0m\u001b[0m\n\u001b[0;32m      5\u001b[0m \u001b[0mplt\u001b[0m\u001b[1;33m.\u001b[0m\u001b[0mylabel\u001b[0m\u001b[1;33m(\u001b[0m\u001b[1;34m\"Energy Demand (kWh)\"\u001b[0m\u001b[1;33m)\u001b[0m\u001b[1;33m\u001b[0m\u001b[1;33m\u001b[0m\u001b[0m\n",
      "\u001b[1;31mNameError\u001b[0m: name 'model' is not defined"
     ]
    }
   ],
   "source": [
    "# Forecast plot\n",
    "fig1 = model.plot(forecast)\n",
    "plt.title(\"Tuned Prophet Forecast (Weekends Included)\")\n",
    "plt.xlabel(\"Date\")\n",
    "plt.ylabel(\"Energy Demand (kWh)\")\n",
    "plt.tight_layout()\n",
    "plt.show()\n",
    "\n",
    "# Components: Trend + Weekly Pattern\n",
    "fig2 = model.plot_components(forecast)\n",
    "plt.tight_layout()\n",
    "plt.show()\n"
   ]
  },
  {
   "cell_type": "code",
   "execution_count": 19,
   "metadata": {},
   "outputs": [],
   "source": [
    "import pandas as pd\n",
    "from sklearn.preprocessing import MinMaxScaler\n",
    "\n",
    "# Start from your cleaned daily_df (with columns ['ds', 'y'])\n",
    "df_lstm = daily_df.copy()\n",
    "\n",
    "# OPTIONAL: Add weekday as a feature\n",
    "df_lstm['day_of_week'] = df_lstm['ds'].dt.dayofweek  # Monday=0, Sunday=6\n",
    "\n",
    "# Select features (you can add more later)\n",
    "features = ['y', 'day_of_week']\n",
    "\n",
    "# Normalize features\n",
    "scaler = MinMaxScaler()\n",
    "scaled = scaler.fit_transform(df_lstm[features])\n",
    "\n",
    "# Convert to DataFrame for easier handling\n",
    "scaled_df = pd.DataFrame(scaled, columns=features)\n",
    "scaled_df['ds'] = df_lstm['ds'].values\n"
   ]
  },
  {
   "cell_type": "code",
   "execution_count": 20,
   "metadata": {},
   "outputs": [],
   "source": [
    "import pandas as pd\n",
    "from sklearn.preprocessing import MinMaxScaler\n",
    "\n",
    "# Start from your cleaned daily_df (with columns ['ds', 'y'])\n",
    "df_lstm = daily_df.copy()\n",
    "\n",
    "# OPTIONAL: Add weekday as a feature\n",
    "df_lstm['day_of_week'] = df_lstm['ds'].dt.dayofweek  # Monday=0, Sunday=6\n",
    "\n",
    "# Select features (you can add more later)\n",
    "features = ['y', 'day_of_week']\n",
    "\n",
    "# Normalize features\n",
    "scaler = MinMaxScaler()\n",
    "scaled = scaler.fit_transform(df_lstm[features])\n",
    "\n",
    "# Convert to DataFrame for easier handling\n",
    "scaled_df = pd.DataFrame(scaled, columns=features)\n",
    "scaled_df['ds'] = df_lstm['ds'].values\n"
   ]
  },
  {
   "cell_type": "code",
   "execution_count": 21,
   "metadata": {},
   "outputs": [
    {
     "name": "stdout",
     "output_type": "stream",
     "text": [
      "X shape: (224, 14, 2)\n",
      "y shape: (224,)\n"
     ]
    }
   ],
   "source": [
    "import numpy as np\n",
    "\n",
    "# Parameters\n",
    "window_size = 14  # 14 days look-back\n",
    "X, y = [], []\n",
    "\n",
    "for i in range(len(scaled_df) - window_size):\n",
    "    X.append(scaled_df[['y', 'day_of_week']].iloc[i:i+window_size].values)\n",
    "    y.append(scaled_df['y'].iloc[i+window_size])\n",
    "\n",
    "X = np.array(X)\n",
    "y = np.array(y)\n",
    "\n",
    "print(\"X shape:\", X.shape)  # Expected: (samples, 14, 2)\n",
    "print(\"y shape:\", y.shape)\n"
   ]
  },
  {
   "cell_type": "code",
   "execution_count": 22,
   "metadata": {},
   "outputs": [],
   "source": [
    "# 80% train, 20% test\n",
    "split = int(0.8 * len(X))\n",
    "X_train, X_test = X[:split], X[split:]\n",
    "y_train, y_test = y[:split], y[split:]\n"
   ]
  },
  {
   "cell_type": "code",
   "execution_count": 32,
   "metadata": {},
   "outputs": [
    {
     "name": "stdout",
     "output_type": "stream",
     "text": [
      "Collecting pyOpenSSL==23.2.0\n",
      "  Downloading https://files.pythonhosted.org/packages/f0/e2/f8b4f1c67933a4907e52228241f4bd52169f3196b70af04403b29c63238a/pyOpenSSL-23.2.0-py3-none-any.whl (59kB)\n",
      "Collecting cryptography==41.0.3\n",
      "  Downloading https://files.pythonhosted.org/packages/8e/5d/2bf54672898375d081cb24b30baeb7793568ae5d958ef781349e9635d1c8/cryptography-41.0.3.tar.gz (630kB)\n",
      "  Installing build dependencies: started\n",
      "  Installing build dependencies: finished with status 'done'\n",
      "  Getting requirements to build wheel: started\n",
      "  Getting requirements to build wheel: finished with status 'done'\n",
      "    Preparing wheel metadata: started\n",
      "    Preparing wheel metadata: finished with status 'done'\n",
      "Requirement already satisfied: cffi>=1.12 in c:\\programdata\\anaconda3\\lib\\site-packages (from cryptography==41.0.3) (1.12.2)\n",
      "Requirement already satisfied: pycparser in c:\\programdata\\anaconda3\\lib\\site-packages (from cffi>=1.12->cryptography==41.0.3) (2.19)\n",
      "Building wheels for collected packages: cryptography\n",
      "  Building wheel for cryptography (PEP 517): started\n",
      "  Building wheel for cryptography (PEP 517): finished with status 'error'\n",
      "  Complete output from command C:\\ProgramData\\Anaconda3\\python.exe C:\\ProgramData\\Anaconda3\\lib\\site-packages\\pip\\_vendor\\pep517\\_in_process.py build_wheel C:\\Users\\Hp\\AppData\\Local\\Temp\\tmpwzre4i6e:\n",
      "  running bdist_wheel\n",
      "  running build\n",
      "  running build_py\n",
      "  creating build\n",
      "  creating build\\lib.win-amd64-cpython-37\n",
      "  creating build\\lib.win-amd64-cpython-37\\cryptography\n",
      "  copying src\\cryptography\\exceptions.py -> build\\lib.win-amd64-cpython-37\\cryptography\n",
      "  copying src\\cryptography\\fernet.py -> build\\lib.win-amd64-cpython-37\\cryptography\n",
      "  copying src\\cryptography\\utils.py -> build\\lib.win-amd64-cpython-37\\cryptography\n",
      "  copying src\\cryptography\\__about__.py -> build\\lib.win-amd64-cpython-37\\cryptography\n",
      "  copying src\\cryptography\\__init__.py -> build\\lib.win-amd64-cpython-37\\cryptography\n",
      "  creating build\\lib.win-amd64-cpython-37\\cryptography\\hazmat\n",
      "  copying src\\cryptography\\hazmat\\_oid.py -> build\\lib.win-amd64-cpython-37\\cryptography\\hazmat\n",
      "  copying src\\cryptography\\hazmat\\__init__.py -> build\\lib.win-amd64-cpython-37\\cryptography\\hazmat\n",
      "  creating build\\lib.win-amd64-cpython-37\\cryptography\\x509\n",
      "  copying src\\cryptography\\x509\\base.py -> build\\lib.win-amd64-cpython-37\\cryptography\\x509\n",
      "  copying src\\cryptography\\x509\\certificate_transparency.py -> build\\lib.win-amd64-cpython-37\\cryptography\\x509\n",
      "  copying src\\cryptography\\x509\\extensions.py -> build\\lib.win-amd64-cpython-37\\cryptography\\x509\n",
      "  copying src\\cryptography\\x509\\general_name.py -> build\\lib.win-amd64-cpython-37\\cryptography\\x509\n",
      "  copying src\\cryptography\\x509\\name.py -> build\\lib.win-amd64-cpython-37\\cryptography\\x509\n",
      "  copying src\\cryptography\\x509\\ocsp.py -> build\\lib.win-amd64-cpython-37\\cryptography\\x509\n",
      "  copying src\\cryptography\\x509\\oid.py -> build\\lib.win-amd64-cpython-37\\cryptography\\x509\n",
      "  copying src\\cryptography\\x509\\__init__.py -> build\\lib.win-amd64-cpython-37\\cryptography\\x509\n",
      "  creating build\\lib.win-amd64-cpython-37\\cryptography\\hazmat\\backends\n",
      "  copying src\\cryptography\\hazmat\\backends\\__init__.py -> build\\lib.win-amd64-cpython-37\\cryptography\\hazmat\\backends\n",
      "  creating build\\lib.win-amd64-cpython-37\\cryptography\\hazmat\\bindings\n",
      "  copying src\\cryptography\\hazmat\\bindings\\__init__.py -> build\\lib.win-amd64-cpython-37\\cryptography\\hazmat\\bindings\n",
      "  creating build\\lib.win-amd64-cpython-37\\cryptography\\hazmat\\primitives\n",
      "  copying src\\cryptography\\hazmat\\primitives\\cmac.py -> build\\lib.win-amd64-cpython-37\\cryptography\\hazmat\\primitives\n",
      "  copying src\\cryptography\\hazmat\\primitives\\constant_time.py -> build\\lib.win-amd64-cpython-37\\cryptography\\hazmat\\primitives\n",
      "  copying src\\cryptography\\hazmat\\primitives\\hashes.py -> build\\lib.win-amd64-cpython-37\\cryptography\\hazmat\\primitives\n",
      "  copying src\\cryptography\\hazmat\\primitives\\hmac.py -> build\\lib.win-amd64-cpython-37\\cryptography\\hazmat\\primitives\n",
      "  copying src\\cryptography\\hazmat\\primitives\\keywrap.py -> build\\lib.win-amd64-cpython-37\\cryptography\\hazmat\\primitives\n",
      "  copying src\\cryptography\\hazmat\\primitives\\padding.py -> build\\lib.win-amd64-cpython-37\\cryptography\\hazmat\\primitives\n",
      "  copying src\\cryptography\\hazmat\\primitives\\poly1305.py -> build\\lib.win-amd64-cpython-37\\cryptography\\hazmat\\primitives\n",
      "  copying src\\cryptography\\hazmat\\primitives\\_asymmetric.py -> build\\lib.win-amd64-cpython-37\\cryptography\\hazmat\\primitives\n",
      "  copying src\\cryptography\\hazmat\\primitives\\_cipheralgorithm.py -> build\\lib.win-amd64-cpython-37\\cryptography\\hazmat\\primitives\n",
      "  copying src\\cryptography\\hazmat\\primitives\\_serialization.py -> build\\lib.win-amd64-cpython-37\\cryptography\\hazmat\\primitives\n",
      "  copying src\\cryptography\\hazmat\\primitives\\__init__.py -> build\\lib.win-amd64-cpython-37\\cryptography\\hazmat\\primitives\n",
      "  creating build\\lib.win-amd64-cpython-37\\cryptography\\hazmat\\backends\\openssl\n",
      "  copying src\\cryptography\\hazmat\\backends\\openssl\\aead.py -> build\\lib.win-amd64-cpython-37\\cryptography\\hazmat\\backends\\openssl\n",
      "  copying src\\cryptography\\hazmat\\backends\\openssl\\backend.py -> build\\lib.win-amd64-cpython-37\\cryptography\\hazmat\\backends\\openssl\n",
      "  copying src\\cryptography\\hazmat\\backends\\openssl\\ciphers.py -> build\\lib.win-amd64-cpython-37\\cryptography\\hazmat\\backends\\openssl\n",
      "  copying src\\cryptography\\hazmat\\backends\\openssl\\cmac.py -> build\\lib.win-amd64-cpython-37\\cryptography\\hazmat\\backends\\openssl\n",
      "  copying src\\cryptography\\hazmat\\backends\\openssl\\decode_asn1.py -> build\\lib.win-amd64-cpython-37\\cryptography\\hazmat\\backends\\openssl\n",
      "  copying src\\cryptography\\hazmat\\backends\\openssl\\ec.py -> build\\lib.win-amd64-cpython-37\\cryptography\\hazmat\\backends\\openssl\n",
      "  copying src\\cryptography\\hazmat\\backends\\openssl\\rsa.py -> build\\lib.win-amd64-cpython-37\\cryptography\\hazmat\\backends\\openssl\n",
      "  copying src\\cryptography\\hazmat\\backends\\openssl\\utils.py -> build\\lib.win-amd64-cpython-37\\cryptography\\hazmat\\backends\\openssl\n",
      "  copying src\\cryptography\\hazmat\\backends\\openssl\\__init__.py -> build\\lib.win-amd64-cpython-37\\cryptography\\hazmat\\backends\\openssl\n",
      "  creating build\\lib.win-amd64-cpython-37\\cryptography\\hazmat\\bindings\\openssl\n",
      "  copying src\\cryptography\\hazmat\\bindings\\openssl\\binding.py -> build\\lib.win-amd64-cpython-37\\cryptography\\hazmat\\bindings\\openssl\n",
      "  copying src\\cryptography\\hazmat\\bindings\\openssl\\_conditional.py -> build\\lib.win-amd64-cpython-37\\cryptography\\hazmat\\bindings\\openssl\n",
      "  copying src\\cryptography\\hazmat\\bindings\\openssl\\__init__.py -> build\\lib.win-amd64-cpython-37\\cryptography\\hazmat\\bindings\\openssl\n",
      "  creating build\\lib.win-amd64-cpython-37\\cryptography\\hazmat\\primitives\\asymmetric\n",
      "  copying src\\cryptography\\hazmat\\primitives\\asymmetric\\dh.py -> build\\lib.win-amd64-cpython-37\\cryptography\\hazmat\\primitives\\asymmetric\n",
      "  copying src\\cryptography\\hazmat\\primitives\\asymmetric\\dsa.py -> build\\lib.win-amd64-cpython-37\\cryptography\\hazmat\\primitives\\asymmetric\n",
      "  copying src\\cryptography\\hazmat\\primitives\\asymmetric\\ec.py -> build\\lib.win-amd64-cpython-37\\cryptography\\hazmat\\primitives\\asymmetric\n",
      "  copying src\\cryptography\\hazmat\\primitives\\asymmetric\\ed25519.py -> build\\lib.win-amd64-cpython-37\\cryptography\\hazmat\\primitives\\asymmetric\n",
      "  copying src\\cryptography\\hazmat\\primitives\\asymmetric\\ed448.py -> build\\lib.win-amd64-cpython-37\\cryptography\\hazmat\\primitives\\asymmetric\n",
      "  copying src\\cryptography\\hazmat\\primitives\\asymmetric\\padding.py -> build\\lib.win-amd64-cpython-37\\cryptography\\hazmat\\primitives\\asymmetric\n",
      "  copying src\\cryptography\\hazmat\\primitives\\asymmetric\\rsa.py -> build\\lib.win-amd64-cpython-37\\cryptography\\hazmat\\primitives\\asymmetric\n",
      "  copying src\\cryptography\\hazmat\\primitives\\asymmetric\\types.py -> build\\lib.win-amd64-cpython-37\\cryptography\\hazmat\\primitives\\asymmetric\n",
      "  copying src\\cryptography\\hazmat\\primitives\\asymmetric\\utils.py -> build\\lib.win-amd64-cpython-37\\cryptography\\hazmat\\primitives\\asymmetric\n",
      "  copying src\\cryptography\\hazmat\\primitives\\asymmetric\\x25519.py -> build\\lib.win-amd64-cpython-37\\cryptography\\hazmat\\primitives\\asymmetric\n",
      "  copying src\\cryptography\\hazmat\\primitives\\asymmetric\\x448.py -> build\\lib.win-amd64-cpython-37\\cryptography\\hazmat\\primitives\\asymmetric\n",
      "  copying src\\cryptography\\hazmat\\primitives\\asymmetric\\__init__.py -> build\\lib.win-amd64-cpython-37\\cryptography\\hazmat\\primitives\\asymmetric\n",
      "  creating build\\lib.win-amd64-cpython-37\\cryptography\\hazmat\\primitives\\ciphers\n",
      "  copying src\\cryptography\\hazmat\\primitives\\ciphers\\aead.py -> build\\lib.win-amd64-cpython-37\\cryptography\\hazmat\\primitives\\ciphers\n",
      "  copying src\\cryptography\\hazmat\\primitives\\ciphers\\algorithms.py -> build\\lib.win-amd64-cpython-37\\cryptography\\hazmat\\primitives\\ciphers\n",
      "  copying src\\cryptography\\hazmat\\primitives\\ciphers\\base.py -> build\\lib.win-amd64-cpython-37\\cryptography\\hazmat\\primitives\\ciphers\n",
      "  copying src\\cryptography\\hazmat\\primitives\\ciphers\\modes.py -> build\\lib.win-amd64-cpython-37\\cryptography\\hazmat\\primitives\\ciphers\n",
      "  copying src\\cryptography\\hazmat\\primitives\\ciphers\\__init__.py -> build\\lib.win-amd64-cpython-37\\cryptography\\hazmat\\primitives\\ciphers\n",
      "  creating build\\lib.win-amd64-cpython-37\\cryptography\\hazmat\\primitives\\kdf\n",
      "  copying src\\cryptography\\hazmat\\primitives\\kdf\\concatkdf.py -> build\\lib.win-amd64-cpython-37\\cryptography\\hazmat\\primitives\\kdf\n",
      "  copying src\\cryptography\\hazmat\\primitives\\kdf\\hkdf.py -> build\\lib.win-amd64-cpython-37\\cryptography\\hazmat\\primitives\\kdf\n",
      "  copying src\\cryptography\\hazmat\\primitives\\kdf\\kbkdf.py -> build\\lib.win-amd64-cpython-37\\cryptography\\hazmat\\primitives\\kdf\n",
      "  copying src\\cryptography\\hazmat\\primitives\\kdf\\pbkdf2.py -> build\\lib.win-amd64-cpython-37\\cryptography\\hazmat\\primitives\\kdf\n",
      "  copying src\\cryptography\\hazmat\\primitives\\kdf\\scrypt.py -> build\\lib.win-amd64-cpython-37\\cryptography\\hazmat\\primitives\\kdf\n",
      "  copying src\\cryptography\\hazmat\\primitives\\kdf\\x963kdf.py -> build\\lib.win-amd64-cpython-37\\cryptography\\hazmat\\primitives\\kdf\n",
      "  copying src\\cryptography\\hazmat\\primitives\\kdf\\__init__.py -> build\\lib.win-amd64-cpython-37\\cryptography\\hazmat\\primitives\\kdf\n",
      "  creating build\\lib.win-amd64-cpython-37\\cryptography\\hazmat\\primitives\\serialization\n",
      "  copying src\\cryptography\\hazmat\\primitives\\serialization\\base.py -> build\\lib.win-amd64-cpython-37\\cryptography\\hazmat\\primitives\\serialization\n",
      "  copying src\\cryptography\\hazmat\\primitives\\serialization\\pkcs12.py -> build\\lib.win-amd64-cpython-37\\cryptography\\hazmat\\primitives\\serialization\n",
      "  copying src\\cryptography\\hazmat\\primitives\\serialization\\pkcs7.py -> build\\lib.win-amd64-cpython-37\\cryptography\\hazmat\\primitives\\serialization\n",
      "  copying src\\cryptography\\hazmat\\primitives\\serialization\\ssh.py -> build\\lib.win-amd64-cpython-37\\cryptography\\hazmat\\primitives\\serialization\n",
      "  copying src\\cryptography\\hazmat\\primitives\\serialization\\__init__.py -> build\\lib.win-amd64-cpython-37\\cryptography\\hazmat\\primitives\\serialization\n",
      "  creating build\\lib.win-amd64-cpython-37\\cryptography\\hazmat\\primitives\\twofactor\n",
      "  copying src\\cryptography\\hazmat\\primitives\\twofactor\\hotp.py -> build\\lib.win-amd64-cpython-37\\cryptography\\hazmat\\primitives\\twofactor\n",
      "  copying src\\cryptography\\hazmat\\primitives\\twofactor\\totp.py -> build\\lib.win-amd64-cpython-37\\cryptography\\hazmat\\primitives\\twofactor\n",
      "  copying src\\cryptography\\hazmat\\primitives\\twofactor\\__init__.py -> build\\lib.win-amd64-cpython-37\\cryptography\\hazmat\\primitives\\twofactor\n",
      "  running egg_info\n",
      "  writing src\\cryptography.egg-info\\PKG-INFO\n",
      "  writing dependency_links to src\\cryptography.egg-info\\dependency_links.txt\n",
      "  writing requirements to src\\cryptography.egg-info\\requires.txt\n",
      "  writing top-level names to src\\cryptography.egg-info\\top_level.txt\n",
      "  reading manifest file 'src\\cryptography.egg-info\\SOURCES.txt'\n",
      "  reading manifest template 'MANIFEST.in'\n",
      "  C:\\Users\\Hp\\AppData\\Local\\Temp\\pip-build-env-b49i5fbj\\overlay\\Lib\\site-packages\\setuptools\\config\\pyprojecttoml.py:66: _BetaConfiguration: Support for `[tool.setuptools]` in `pyproject.toml` is still *beta*.\n",
      "    config = read_configuration(filepath, True, ignore_option_errors, dist)\n",
      "  warning: no files found matching '*.c' under directory 'src\\_cffi_src'\n",
      "  warning: no files found matching '*.h' under directory 'src\\_cffi_src'\n",
      "  no previously-included directories found matching 'docs\\_build'\n",
      "  warning: no previously-included files found matching 'vectors'\n",
      "  warning: no previously-included files matching '*' found under directory 'vectors'\n",
      "  warning: no previously-included files found matching 'src\\rust\\target'\n",
      "  warning: no previously-included files matching '*' found under directory 'src\\rust\\target'\n",
      "  warning: no previously-included files matching '*' found under directory '.github'\n",
      "  warning: no previously-included files found matching 'release.py'\n",
      "  warning: no previously-included files found matching '.readthedocs.yml'\n",
      "  warning: no previously-included files found matching 'ci-constraints-requirements.txt'\n",
      "  warning: no previously-included files found matching 'mypy.ini'\n",
      "  adding license file 'LICENSE'\n",
      "  adding license file 'LICENSE.APACHE'\n",
      "  adding license file 'LICENSE.BSD'\n",
      "  writing manifest file 'src\\cryptography.egg-info\\SOURCES.txt'\n",
      "  copying src\\cryptography\\py.typed -> build\\lib.win-amd64-cpython-37\\cryptography\n",
      "  creating build\\lib.win-amd64-cpython-37\\cryptography\\hazmat\\bindings\\_rust\n",
      "  copying src\\cryptography\\hazmat\\bindings\\_rust\\__init__.pyi -> build\\lib.win-amd64-cpython-37\\cryptography\\hazmat\\bindings\\_rust\n",
      "  copying src\\cryptography\\hazmat\\bindings\\_rust\\_openssl.pyi -> build\\lib.win-amd64-cpython-37\\cryptography\\hazmat\\bindings\\_rust\n",
      "  copying src\\cryptography\\hazmat\\bindings\\_rust\\asn1.pyi -> build\\lib.win-amd64-cpython-37\\cryptography\\hazmat\\bindings\\_rust\n",
      "  copying src\\cryptography\\hazmat\\bindings\\_rust\\exceptions.pyi -> build\\lib.win-amd64-cpython-37\\cryptography\\hazmat\\bindings\\_rust\n",
      "  copying src\\cryptography\\hazmat\\bindings\\_rust\\ocsp.pyi -> build\\lib.win-amd64-cpython-37\\cryptography\\hazmat\\bindings\\_rust\n",
      "  copying src\\cryptography\\hazmat\\bindings\\_rust\\pkcs7.pyi -> build\\lib.win-amd64-cpython-37\\cryptography\\hazmat\\bindings\\_rust\n",
      "  copying src\\cryptography\\hazmat\\bindings\\_rust\\x509.pyi -> build\\lib.win-amd64-cpython-37\\cryptography\\hazmat\\bindings\\_rust\n",
      "  creating build\\lib.win-amd64-cpython-37\\cryptography\\hazmat\\bindings\\_rust\\openssl\n",
      "  copying src\\cryptography\\hazmat\\bindings\\_rust\\openssl\\__init__.pyi -> build\\lib.win-amd64-cpython-37\\cryptography\\hazmat\\bindings\\_rust\\openssl\n",
      "  copying src\\cryptography\\hazmat\\bindings\\_rust\\openssl\\dh.pyi -> build\\lib.win-amd64-cpython-37\\cryptography\\hazmat\\bindings\\_rust\\openssl\n",
      "  copying src\\cryptography\\hazmat\\bindings\\_rust\\openssl\\dsa.pyi -> build\\lib.win-amd64-cpython-37\\cryptography\\hazmat\\bindings\\_rust\\openssl\n",
      "  copying src\\cryptography\\hazmat\\bindings\\_rust\\openssl\\ed25519.pyi -> build\\lib.win-amd64-cpython-37\\cryptography\\hazmat\\bindings\\_rust\\openssl\n",
      "  copying src\\cryptography\\hazmat\\bindings\\_rust\\openssl\\ed448.pyi -> build\\lib.win-amd64-cpython-37\\cryptography\\hazmat\\bindings\\_rust\\openssl\n",
      "  copying src\\cryptography\\hazmat\\bindings\\_rust\\openssl\\hashes.pyi -> build\\lib.win-amd64-cpython-37\\cryptography\\hazmat\\bindings\\_rust\\openssl\n",
      "  copying src\\cryptography\\hazmat\\bindings\\_rust\\openssl\\hmac.pyi -> build\\lib.win-amd64-cpython-37\\cryptography\\hazmat\\bindings\\_rust\\openssl\n",
      "  copying src\\cryptography\\hazmat\\bindings\\_rust\\openssl\\kdf.pyi -> build\\lib.win-amd64-cpython-37\\cryptography\\hazmat\\bindings\\_rust\\openssl\n",
      "  copying src\\cryptography\\hazmat\\bindings\\_rust\\openssl\\poly1305.pyi -> build\\lib.win-amd64-cpython-37\\cryptography\\hazmat\\bindings\\_rust\\openssl\n",
      "  copying src\\cryptography\\hazmat\\bindings\\_rust\\openssl\\x25519.pyi -> build\\lib.win-amd64-cpython-37\\cryptography\\hazmat\\bindings\\_rust\\openssl\n",
      "  copying src\\cryptography\\hazmat\\bindings\\_rust\\openssl\\x448.pyi -> build\\lib.win-amd64-cpython-37\\cryptography\\hazmat\\bindings\\_rust\\openssl\n",
      "  running build_ext\n",
      "  running build_rust\n",
      "  \n",
      "      =============================DEBUG ASSISTANCE=============================\n",
      "      If you are seeing a compilation error please try the following steps to\n",
      "      successfully install cryptography:\n",
      "      1) Upgrade to the latest pip and try again. This will fix errors for most\n",
      "         users. See: https://pip.pypa.io/en/stable/installing/#upgrading-pip\n",
      "      2) Read https://cryptography.io/en/latest/installation/ for specific\n",
      "         instructions for your platform.\n",
      "      3) Check our frequently asked questions for more information:\n",
      "         https://cryptography.io/en/latest/faq/\n",
      "      4) Ensure you have a recent Rust toolchain installed:\n",
      "         https://cryptography.io/en/latest/installation/#rust\n",
      "  \n",
      "      Python: 3.7.3\n",
      "      platform: Windows-10-10.0.19041-SP0\n",
      "      pip: n/a\n",
      "      setuptools: 68.0.0\n",
      "      setuptools_rust: 1.7.0\n",
      "      rustc: n/a\n",
      "      =============================DEBUG ASSISTANCE=============================\n",
      "  \n",
      "  error: can't find Rust compiler\n",
      "  \n",
      "  If you are using an outdated pip version, it is possible a prebuilt wheel is available for this package but pip is not able to install from it. Installing from the wheel would avoid the need for a Rust compiler.\n",
      "  \n",
      "  To update pip, run:\n",
      "  \n",
      "      pip install --upgrade pip\n",
      "  \n",
      "  and then retry package installation.\n",
      "  \n",
      "  If you did intend to build this package from source, try installing a Rust compiler from your system package manager and ensure it is on the PATH during installation. Alternatively, rustup (available at https://rustup.rs) is the recommended way to download and update the Rust compiler toolchain.\n",
      "  \n",
      "  This package requires Rust >=1.56.0.\n",
      "  \n",
      "  ----------------------------------------\n",
      "  Running setup.py clean for cryptography\n",
      "Failed to build cryptography\n",
      "Note: you may need to restart the kernel to use updated packages.\n"
     ]
    },
    {
     "name": "stderr",
     "output_type": "stream",
     "text": [
      "  Failed building wheel for cryptography\n",
      "Could not build wheels for cryptography which use PEP 517 and cannot be installed directly\n"
     ]
    }
   ],
   "source": [
    "pip install pyOpenSSL==23.2.0 cryptography==41.0.3"
   ]
  },
  {
   "cell_type": "code",
   "execution_count": 33,
   "metadata": {},
   "outputs": [
    {
     "ename": "AttributeError",
     "evalue": "module 'lib' has no attribute 'X509_V_FLAG_CB_ISSUER_CHECK'",
     "output_type": "error",
     "traceback": [
      "\u001b[1;31m---------------------------------------------------------------------------\u001b[0m",
      "\u001b[1;31mAttributeError\u001b[0m                            Traceback (most recent call last)",
      "\u001b[1;32m<ipython-input-33-ddbddcf8806d>\u001b[0m in \u001b[0;36m<module>\u001b[1;34m\u001b[0m\n\u001b[1;32m----> 1\u001b[1;33m \u001b[1;32mfrom\u001b[0m \u001b[0mtensorflow\u001b[0m\u001b[1;33m.\u001b[0m\u001b[0mkeras\u001b[0m\u001b[1;33m.\u001b[0m\u001b[0mmodels\u001b[0m \u001b[1;32mimport\u001b[0m \u001b[0mSequential\u001b[0m\u001b[1;33m\u001b[0m\u001b[1;33m\u001b[0m\u001b[0m\n\u001b[0m\u001b[0;32m      2\u001b[0m \u001b[1;32mfrom\u001b[0m \u001b[0mtensorflow\u001b[0m\u001b[1;33m.\u001b[0m\u001b[0mkeras\u001b[0m\u001b[1;33m.\u001b[0m\u001b[0mlayers\u001b[0m \u001b[1;32mimport\u001b[0m \u001b[0mLSTM\u001b[0m\u001b[1;33m,\u001b[0m \u001b[0mDense\u001b[0m\u001b[1;33m,\u001b[0m \u001b[0mDropout\u001b[0m\u001b[1;33m\u001b[0m\u001b[1;33m\u001b[0m\u001b[0m\n\u001b[0;32m      3\u001b[0m \u001b[1;33m\u001b[0m\u001b[0m\n\u001b[0;32m      4\u001b[0m \u001b[1;31m# Build LSTM model\u001b[0m\u001b[1;33m\u001b[0m\u001b[1;33m\u001b[0m\u001b[1;33m\u001b[0m\u001b[0m\n\u001b[0;32m      5\u001b[0m \u001b[0mmodel\u001b[0m \u001b[1;33m=\u001b[0m \u001b[0mSequential\u001b[0m\u001b[1;33m(\u001b[0m\u001b[1;33m)\u001b[0m\u001b[1;33m\u001b[0m\u001b[1;33m\u001b[0m\u001b[0m\n",
      "\u001b[1;32m~\\AppData\\Roaming\\Python\\Python37\\site-packages\\tensorflow\\__init__.py\u001b[0m in \u001b[0;36m<module>\u001b[1;34m\u001b[0m\n\u001b[0;32m     35\u001b[0m \u001b[1;32mimport\u001b[0m \u001b[0mtyping\u001b[0m \u001b[1;32mas\u001b[0m \u001b[0m_typing\u001b[0m\u001b[1;33m\u001b[0m\u001b[1;33m\u001b[0m\u001b[0m\n\u001b[0;32m     36\u001b[0m \u001b[1;33m\u001b[0m\u001b[0m\n\u001b[1;32m---> 37\u001b[1;33m \u001b[1;32mfrom\u001b[0m \u001b[0mtensorflow\u001b[0m\u001b[1;33m.\u001b[0m\u001b[0mpython\u001b[0m\u001b[1;33m.\u001b[0m\u001b[0mtools\u001b[0m \u001b[1;32mimport\u001b[0m \u001b[0mmodule_util\u001b[0m \u001b[1;32mas\u001b[0m \u001b[0m_module_util\u001b[0m\u001b[1;33m\u001b[0m\u001b[1;33m\u001b[0m\u001b[0m\n\u001b[0m\u001b[0;32m     38\u001b[0m \u001b[1;32mfrom\u001b[0m \u001b[0mtensorflow\u001b[0m\u001b[1;33m.\u001b[0m\u001b[0mpython\u001b[0m\u001b[1;33m.\u001b[0m\u001b[0mutil\u001b[0m\u001b[1;33m.\u001b[0m\u001b[0mlazy_loader\u001b[0m \u001b[1;32mimport\u001b[0m \u001b[0mLazyLoader\u001b[0m \u001b[1;32mas\u001b[0m \u001b[0m_LazyLoader\u001b[0m\u001b[1;33m\u001b[0m\u001b[1;33m\u001b[0m\u001b[0m\n\u001b[0;32m     39\u001b[0m \u001b[1;33m\u001b[0m\u001b[0m\n",
      "\u001b[1;32m~\\AppData\\Roaming\\Python\\Python37\\site-packages\\tensorflow\\python\\__init__.py\u001b[0m in \u001b[0;36m<module>\u001b[1;34m\u001b[0m\n\u001b[0;32m     43\u001b[0m \u001b[1;32mfrom\u001b[0m \u001b[0mtensorflow\u001b[0m\u001b[1;33m.\u001b[0m\u001b[0mpython\u001b[0m \u001b[1;32mimport\u001b[0m \u001b[0mdistribute\u001b[0m\u001b[1;33m\u001b[0m\u001b[1;33m\u001b[0m\u001b[0m\n\u001b[0;32m     44\u001b[0m \u001b[1;31m# from tensorflow.python import keras\u001b[0m\u001b[1;33m\u001b[0m\u001b[1;33m\u001b[0m\u001b[1;33m\u001b[0m\u001b[0m\n\u001b[1;32m---> 45\u001b[1;33m \u001b[1;32mfrom\u001b[0m \u001b[0mtensorflow\u001b[0m\u001b[1;33m.\u001b[0m\u001b[0mpython\u001b[0m\u001b[1;33m.\u001b[0m\u001b[0mfeature_column\u001b[0m \u001b[1;32mimport\u001b[0m \u001b[0mfeature_column_lib\u001b[0m \u001b[1;32mas\u001b[0m \u001b[0mfeature_column\u001b[0m\u001b[1;33m\u001b[0m\u001b[1;33m\u001b[0m\u001b[0m\n\u001b[0m\u001b[0;32m     46\u001b[0m \u001b[1;31m# from tensorflow.python.layers import layers\u001b[0m\u001b[1;33m\u001b[0m\u001b[1;33m\u001b[0m\u001b[1;33m\u001b[0m\u001b[0m\n\u001b[0;32m     47\u001b[0m \u001b[1;32mfrom\u001b[0m \u001b[0mtensorflow\u001b[0m\u001b[1;33m.\u001b[0m\u001b[0mpython\u001b[0m\u001b[1;33m.\u001b[0m\u001b[0mmodule\u001b[0m \u001b[1;32mimport\u001b[0m \u001b[0mmodule\u001b[0m\u001b[1;33m\u001b[0m\u001b[1;33m\u001b[0m\u001b[0m\n",
      "\u001b[1;32m~\\AppData\\Roaming\\Python\\Python37\\site-packages\\tensorflow\\python\\feature_column\\feature_column_lib.py\u001b[0m in \u001b[0;36m<module>\u001b[1;34m\u001b[0m\n\u001b[0;32m     16\u001b[0m \u001b[1;33m\u001b[0m\u001b[0m\n\u001b[0;32m     17\u001b[0m \u001b[1;31m# pylint: disable=unused-import,line-too-long,wildcard-import,g-bad-import-order\u001b[0m\u001b[1;33m\u001b[0m\u001b[1;33m\u001b[0m\u001b[1;33m\u001b[0m\u001b[0m\n\u001b[1;32m---> 18\u001b[1;33m \u001b[1;32mfrom\u001b[0m \u001b[0mtensorflow\u001b[0m\u001b[1;33m.\u001b[0m\u001b[0mpython\u001b[0m\u001b[1;33m.\u001b[0m\u001b[0mfeature_column\u001b[0m\u001b[1;33m.\u001b[0m\u001b[0mfeature_column\u001b[0m \u001b[1;32mimport\u001b[0m \u001b[1;33m*\u001b[0m\u001b[1;33m\u001b[0m\u001b[1;33m\u001b[0m\u001b[0m\n\u001b[0m\u001b[0;32m     19\u001b[0m \u001b[1;32mfrom\u001b[0m \u001b[0mtensorflow\u001b[0m\u001b[1;33m.\u001b[0m\u001b[0mpython\u001b[0m\u001b[1;33m.\u001b[0m\u001b[0mfeature_column\u001b[0m\u001b[1;33m.\u001b[0m\u001b[0mfeature_column_v2\u001b[0m \u001b[1;32mimport\u001b[0m \u001b[1;33m*\u001b[0m\u001b[1;33m\u001b[0m\u001b[1;33m\u001b[0m\u001b[0m\n\u001b[0;32m     20\u001b[0m \u001b[1;32mfrom\u001b[0m \u001b[0mtensorflow\u001b[0m\u001b[1;33m.\u001b[0m\u001b[0mpython\u001b[0m\u001b[1;33m.\u001b[0m\u001b[0mfeature_column\u001b[0m\u001b[1;33m.\u001b[0m\u001b[0msequence_feature_column\u001b[0m \u001b[1;32mimport\u001b[0m \u001b[1;33m*\u001b[0m\u001b[1;33m\u001b[0m\u001b[1;33m\u001b[0m\u001b[0m\n",
      "\u001b[1;32m~\\AppData\\Roaming\\Python\\Python37\\site-packages\\tensorflow\\python\\feature_column\\feature_column.py\u001b[0m in \u001b[0;36m<module>\u001b[1;34m\u001b[0m\n\u001b[0;32m    141\u001b[0m \u001b[1;32mfrom\u001b[0m \u001b[0mtensorflow\u001b[0m\u001b[1;33m.\u001b[0m\u001b[0mpython\u001b[0m\u001b[1;33m.\u001b[0m\u001b[0mframework\u001b[0m \u001b[1;32mimport\u001b[0m \u001b[0msparse_tensor\u001b[0m \u001b[1;32mas\u001b[0m \u001b[0msparse_tensor_lib\u001b[0m\u001b[1;33m\u001b[0m\u001b[1;33m\u001b[0m\u001b[0m\n\u001b[0;32m    142\u001b[0m \u001b[1;32mfrom\u001b[0m \u001b[0mtensorflow\u001b[0m\u001b[1;33m.\u001b[0m\u001b[0mpython\u001b[0m\u001b[1;33m.\u001b[0m\u001b[0mframework\u001b[0m \u001b[1;32mimport\u001b[0m \u001b[0mtensor_shape\u001b[0m\u001b[1;33m\u001b[0m\u001b[1;33m\u001b[0m\u001b[0m\n\u001b[1;32m--> 143\u001b[1;33m \u001b[1;32mfrom\u001b[0m \u001b[0mtensorflow\u001b[0m\u001b[1;33m.\u001b[0m\u001b[0mpython\u001b[0m\u001b[1;33m.\u001b[0m\u001b[0mlayers\u001b[0m \u001b[1;32mimport\u001b[0m \u001b[0mbase\u001b[0m\u001b[1;33m\u001b[0m\u001b[1;33m\u001b[0m\u001b[0m\n\u001b[0m\u001b[0;32m    144\u001b[0m \u001b[1;32mfrom\u001b[0m \u001b[0mtensorflow\u001b[0m\u001b[1;33m.\u001b[0m\u001b[0mpython\u001b[0m\u001b[1;33m.\u001b[0m\u001b[0mops\u001b[0m \u001b[1;32mimport\u001b[0m \u001b[0marray_ops\u001b[0m\u001b[1;33m\u001b[0m\u001b[1;33m\u001b[0m\u001b[0m\n\u001b[0;32m    145\u001b[0m \u001b[1;32mfrom\u001b[0m \u001b[0mtensorflow\u001b[0m\u001b[1;33m.\u001b[0m\u001b[0mpython\u001b[0m\u001b[1;33m.\u001b[0m\u001b[0mops\u001b[0m \u001b[1;32mimport\u001b[0m \u001b[0mcheck_ops\u001b[0m\u001b[1;33m\u001b[0m\u001b[1;33m\u001b[0m\u001b[0m\n",
      "\u001b[1;32m~\\AppData\\Roaming\\Python\\Python37\\site-packages\\tensorflow\\python\\layers\\base.py\u001b[0m in \u001b[0;36m<module>\u001b[1;34m\u001b[0m\n\u001b[0;32m     14\u001b[0m \u001b[1;31m# =============================================================================\u001b[0m\u001b[1;33m\u001b[0m\u001b[1;33m\u001b[0m\u001b[1;33m\u001b[0m\u001b[0m\n\u001b[0;32m     15\u001b[0m \u001b[1;34m\"\"\"Contains the base Layer class, from which all layers inherit.\"\"\"\u001b[0m\u001b[1;33m\u001b[0m\u001b[1;33m\u001b[0m\u001b[0m\n\u001b[1;32m---> 16\u001b[1;33m \u001b[1;32mfrom\u001b[0m \u001b[0mtensorflow\u001b[0m\u001b[1;33m.\u001b[0m\u001b[0mpython\u001b[0m\u001b[1;33m.\u001b[0m\u001b[0mkeras\u001b[0m\u001b[1;33m.\u001b[0m\u001b[0mlegacy_tf_layers\u001b[0m \u001b[1;32mimport\u001b[0m \u001b[0mbase\u001b[0m\u001b[1;33m\u001b[0m\u001b[1;33m\u001b[0m\u001b[0m\n\u001b[0m\u001b[0;32m     17\u001b[0m \u001b[1;33m\u001b[0m\u001b[0m\n\u001b[0;32m     18\u001b[0m \u001b[0mInputSpec\u001b[0m \u001b[1;33m=\u001b[0m \u001b[0mbase\u001b[0m\u001b[1;33m.\u001b[0m\u001b[0mInputSpec\u001b[0m\u001b[1;33m\u001b[0m\u001b[1;33m\u001b[0m\u001b[0m\n",
      "\u001b[1;32m~\\AppData\\Roaming\\Python\\Python37\\site-packages\\tensorflow\\python\\keras\\__init__.py\u001b[0m in \u001b[0;36m<module>\u001b[1;34m\u001b[0m\n\u001b[0;32m     23\u001b[0m \u001b[1;33m\u001b[0m\u001b[0m\n\u001b[0;32m     24\u001b[0m \u001b[1;31m# See b/110718070#comment18 for more details about this import.\u001b[0m\u001b[1;33m\u001b[0m\u001b[1;33m\u001b[0m\u001b[1;33m\u001b[0m\u001b[0m\n\u001b[1;32m---> 25\u001b[1;33m \u001b[1;32mfrom\u001b[0m \u001b[0mtensorflow\u001b[0m\u001b[1;33m.\u001b[0m\u001b[0mpython\u001b[0m\u001b[1;33m.\u001b[0m\u001b[0mkeras\u001b[0m \u001b[1;32mimport\u001b[0m \u001b[0mmodels\u001b[0m\u001b[1;33m\u001b[0m\u001b[1;33m\u001b[0m\u001b[0m\n\u001b[0m\u001b[0;32m     26\u001b[0m \u001b[1;33m\u001b[0m\u001b[0m\n\u001b[0;32m     27\u001b[0m \u001b[1;32mfrom\u001b[0m \u001b[0mtensorflow\u001b[0m\u001b[1;33m.\u001b[0m\u001b[0mpython\u001b[0m\u001b[1;33m.\u001b[0m\u001b[0mkeras\u001b[0m\u001b[1;33m.\u001b[0m\u001b[0mengine\u001b[0m\u001b[1;33m.\u001b[0m\u001b[0minput_layer\u001b[0m \u001b[1;32mimport\u001b[0m \u001b[0mInput\u001b[0m\u001b[1;33m\u001b[0m\u001b[1;33m\u001b[0m\u001b[0m\n",
      "\u001b[1;32m~\\AppData\\Roaming\\Python\\Python37\\site-packages\\tensorflow\\python\\keras\\models.py\u001b[0m in \u001b[0;36m<module>\u001b[1;34m\u001b[0m\n\u001b[0;32m     20\u001b[0m \u001b[1;32mfrom\u001b[0m \u001b[0mtensorflow\u001b[0m\u001b[1;33m.\u001b[0m\u001b[0mpython\u001b[0m\u001b[1;33m.\u001b[0m\u001b[0mkeras\u001b[0m \u001b[1;32mimport\u001b[0m \u001b[0mmetrics\u001b[0m \u001b[1;32mas\u001b[0m \u001b[0mmetrics_module\u001b[0m\u001b[1;33m\u001b[0m\u001b[1;33m\u001b[0m\u001b[0m\n\u001b[0;32m     21\u001b[0m \u001b[1;32mfrom\u001b[0m \u001b[0mtensorflow\u001b[0m\u001b[1;33m.\u001b[0m\u001b[0mpython\u001b[0m\u001b[1;33m.\u001b[0m\u001b[0mkeras\u001b[0m \u001b[1;32mimport\u001b[0m \u001b[0moptimizer_v1\u001b[0m\u001b[1;33m\u001b[0m\u001b[1;33m\u001b[0m\u001b[0m\n\u001b[1;32m---> 22\u001b[1;33m \u001b[1;32mfrom\u001b[0m \u001b[0mtensorflow\u001b[0m\u001b[1;33m.\u001b[0m\u001b[0mpython\u001b[0m\u001b[1;33m.\u001b[0m\u001b[0mkeras\u001b[0m\u001b[1;33m.\u001b[0m\u001b[0mengine\u001b[0m \u001b[1;32mimport\u001b[0m \u001b[0mfunctional\u001b[0m\u001b[1;33m\u001b[0m\u001b[1;33m\u001b[0m\u001b[0m\n\u001b[0m\u001b[0;32m     23\u001b[0m \u001b[1;32mfrom\u001b[0m \u001b[0mtensorflow\u001b[0m\u001b[1;33m.\u001b[0m\u001b[0mpython\u001b[0m\u001b[1;33m.\u001b[0m\u001b[0mkeras\u001b[0m\u001b[1;33m.\u001b[0m\u001b[0mengine\u001b[0m \u001b[1;32mimport\u001b[0m \u001b[0msequential\u001b[0m\u001b[1;33m\u001b[0m\u001b[1;33m\u001b[0m\u001b[0m\n\u001b[0;32m     24\u001b[0m \u001b[1;32mfrom\u001b[0m \u001b[0mtensorflow\u001b[0m\u001b[1;33m.\u001b[0m\u001b[0mpython\u001b[0m\u001b[1;33m.\u001b[0m\u001b[0mkeras\u001b[0m\u001b[1;33m.\u001b[0m\u001b[0mengine\u001b[0m \u001b[1;32mimport\u001b[0m \u001b[0mtraining\u001b[0m\u001b[1;33m\u001b[0m\u001b[1;33m\u001b[0m\u001b[0m\n",
      "\u001b[1;32m~\\AppData\\Roaming\\Python\\Python37\\site-packages\\tensorflow\\python\\keras\\engine\\functional.py\u001b[0m in \u001b[0;36m<module>\u001b[1;34m\u001b[0m\n\u001b[0;32m     30\u001b[0m \u001b[1;32mfrom\u001b[0m \u001b[0mtensorflow\u001b[0m\u001b[1;33m.\u001b[0m\u001b[0mpython\u001b[0m\u001b[1;33m.\u001b[0m\u001b[0mkeras\u001b[0m\u001b[1;33m.\u001b[0m\u001b[0mengine\u001b[0m \u001b[1;32mimport\u001b[0m \u001b[0minput_spec\u001b[0m\u001b[1;33m\u001b[0m\u001b[1;33m\u001b[0m\u001b[0m\n\u001b[0;32m     31\u001b[0m \u001b[1;32mfrom\u001b[0m \u001b[0mtensorflow\u001b[0m\u001b[1;33m.\u001b[0m\u001b[0mpython\u001b[0m\u001b[1;33m.\u001b[0m\u001b[0mkeras\u001b[0m\u001b[1;33m.\u001b[0m\u001b[0mengine\u001b[0m \u001b[1;32mimport\u001b[0m \u001b[0mnode\u001b[0m \u001b[1;32mas\u001b[0m \u001b[0mnode_module\u001b[0m\u001b[1;33m\u001b[0m\u001b[1;33m\u001b[0m\u001b[0m\n\u001b[1;32m---> 32\u001b[1;33m \u001b[1;32mfrom\u001b[0m \u001b[0mtensorflow\u001b[0m\u001b[1;33m.\u001b[0m\u001b[0mpython\u001b[0m\u001b[1;33m.\u001b[0m\u001b[0mkeras\u001b[0m\u001b[1;33m.\u001b[0m\u001b[0mengine\u001b[0m \u001b[1;32mimport\u001b[0m \u001b[0mtraining\u001b[0m \u001b[1;32mas\u001b[0m \u001b[0mtraining_lib\u001b[0m\u001b[1;33m\u001b[0m\u001b[1;33m\u001b[0m\u001b[0m\n\u001b[0m\u001b[0;32m     33\u001b[0m \u001b[1;32mfrom\u001b[0m \u001b[0mtensorflow\u001b[0m\u001b[1;33m.\u001b[0m\u001b[0mpython\u001b[0m\u001b[1;33m.\u001b[0m\u001b[0mkeras\u001b[0m\u001b[1;33m.\u001b[0m\u001b[0mengine\u001b[0m \u001b[1;32mimport\u001b[0m \u001b[0mtraining_utils\u001b[0m\u001b[1;33m\u001b[0m\u001b[1;33m\u001b[0m\u001b[0m\n\u001b[0;32m     34\u001b[0m \u001b[1;32mfrom\u001b[0m \u001b[0mtensorflow\u001b[0m\u001b[1;33m.\u001b[0m\u001b[0mpython\u001b[0m\u001b[1;33m.\u001b[0m\u001b[0mkeras\u001b[0m\u001b[1;33m.\u001b[0m\u001b[0msaving\u001b[0m\u001b[1;33m.\u001b[0m\u001b[0msaved_model\u001b[0m \u001b[1;32mimport\u001b[0m \u001b[0mnetwork_serialization\u001b[0m\u001b[1;33m\u001b[0m\u001b[1;33m\u001b[0m\u001b[0m\n",
      "\u001b[1;32m~\\AppData\\Roaming\\Python\\Python37\\site-packages\\tensorflow\\python\\keras\\engine\\training.py\u001b[0m in \u001b[0;36m<module>\u001b[1;34m\u001b[0m\n\u001b[0;32m     42\u001b[0m \u001b[1;32mfrom\u001b[0m \u001b[0mtensorflow\u001b[0m\u001b[1;33m.\u001b[0m\u001b[0mpython\u001b[0m\u001b[1;33m.\u001b[0m\u001b[0mframework\u001b[0m \u001b[1;32mimport\u001b[0m \u001b[0mtensor_shape\u001b[0m\u001b[1;33m\u001b[0m\u001b[1;33m\u001b[0m\u001b[0m\n\u001b[0;32m     43\u001b[0m \u001b[1;32mfrom\u001b[0m \u001b[0mtensorflow\u001b[0m\u001b[1;33m.\u001b[0m\u001b[0mpython\u001b[0m\u001b[1;33m.\u001b[0m\u001b[0mkeras\u001b[0m \u001b[1;32mimport\u001b[0m \u001b[0mbackend\u001b[0m\u001b[1;33m\u001b[0m\u001b[1;33m\u001b[0m\u001b[0m\n\u001b[1;32m---> 44\u001b[1;33m \u001b[1;32mfrom\u001b[0m \u001b[0mtensorflow\u001b[0m\u001b[1;33m.\u001b[0m\u001b[0mpython\u001b[0m\u001b[1;33m.\u001b[0m\u001b[0mkeras\u001b[0m \u001b[1;32mimport\u001b[0m \u001b[0mcallbacks\u001b[0m \u001b[1;32mas\u001b[0m \u001b[0mcallbacks_module\u001b[0m\u001b[1;33m\u001b[0m\u001b[1;33m\u001b[0m\u001b[0m\n\u001b[0m\u001b[0;32m     45\u001b[0m \u001b[1;32mfrom\u001b[0m \u001b[0mtensorflow\u001b[0m\u001b[1;33m.\u001b[0m\u001b[0mpython\u001b[0m\u001b[1;33m.\u001b[0m\u001b[0mkeras\u001b[0m \u001b[1;32mimport\u001b[0m \u001b[0moptimizer_v1\u001b[0m\u001b[1;33m\u001b[0m\u001b[1;33m\u001b[0m\u001b[0m\n\u001b[0;32m     46\u001b[0m \u001b[1;32mfrom\u001b[0m \u001b[0mtensorflow\u001b[0m\u001b[1;33m.\u001b[0m\u001b[0mpython\u001b[0m\u001b[1;33m.\u001b[0m\u001b[0mkeras\u001b[0m \u001b[1;32mimport\u001b[0m \u001b[0moptimizers\u001b[0m\u001b[1;33m\u001b[0m\u001b[1;33m\u001b[0m\u001b[0m\n",
      "\u001b[1;32m~\\AppData\\Roaming\\Python\\Python37\\site-packages\\tensorflow\\python\\keras\\callbacks.py\u001b[0m in \u001b[0;36m<module>\u001b[1;34m\u001b[0m\n\u001b[0;32m     66\u001b[0m \u001b[1;33m\u001b[0m\u001b[0m\n\u001b[0;32m     67\u001b[0m \u001b[1;32mtry\u001b[0m\u001b[1;33m:\u001b[0m\u001b[1;33m\u001b[0m\u001b[1;33m\u001b[0m\u001b[0m\n\u001b[1;32m---> 68\u001b[1;33m   \u001b[1;32mimport\u001b[0m \u001b[0mrequests\u001b[0m\u001b[1;33m\u001b[0m\u001b[1;33m\u001b[0m\u001b[0m\n\u001b[0m\u001b[0;32m     69\u001b[0m \u001b[1;32mexcept\u001b[0m \u001b[0mImportError\u001b[0m\u001b[1;33m:\u001b[0m\u001b[1;33m\u001b[0m\u001b[1;33m\u001b[0m\u001b[0m\n\u001b[0;32m     70\u001b[0m   \u001b[0mrequests\u001b[0m \u001b[1;33m=\u001b[0m \u001b[1;32mNone\u001b[0m\u001b[1;33m\u001b[0m\u001b[1;33m\u001b[0m\u001b[0m\n",
      "\u001b[1;32mC:\\ProgramData\\Anaconda3\\lib\\site-packages\\requests\\__init__.py\u001b[0m in \u001b[0;36m<module>\u001b[1;34m\u001b[0m\n\u001b[0;32m     93\u001b[0m \u001b[1;31m# Attempt to enable urllib3's SNI support, if possible\u001b[0m\u001b[1;33m\u001b[0m\u001b[1;33m\u001b[0m\u001b[1;33m\u001b[0m\u001b[0m\n\u001b[0;32m     94\u001b[0m \u001b[1;32mtry\u001b[0m\u001b[1;33m:\u001b[0m\u001b[1;33m\u001b[0m\u001b[1;33m\u001b[0m\u001b[0m\n\u001b[1;32m---> 95\u001b[1;33m     \u001b[1;32mfrom\u001b[0m \u001b[0murllib3\u001b[0m\u001b[1;33m.\u001b[0m\u001b[0mcontrib\u001b[0m \u001b[1;32mimport\u001b[0m \u001b[0mpyopenssl\u001b[0m\u001b[1;33m\u001b[0m\u001b[1;33m\u001b[0m\u001b[0m\n\u001b[0m\u001b[0;32m     96\u001b[0m     \u001b[0mpyopenssl\u001b[0m\u001b[1;33m.\u001b[0m\u001b[0minject_into_urllib3\u001b[0m\u001b[1;33m(\u001b[0m\u001b[1;33m)\u001b[0m\u001b[1;33m\u001b[0m\u001b[1;33m\u001b[0m\u001b[0m\n\u001b[0;32m     97\u001b[0m \u001b[1;33m\u001b[0m\u001b[0m\n",
      "\u001b[1;32mC:\\ProgramData\\Anaconda3\\lib\\site-packages\\urllib3\\contrib\\pyopenssl.py\u001b[0m in \u001b[0;36m<module>\u001b[1;34m\u001b[0m\n\u001b[0;32m     44\u001b[0m \u001b[1;32mfrom\u001b[0m \u001b[0m__future__\u001b[0m \u001b[1;32mimport\u001b[0m \u001b[0mabsolute_import\u001b[0m\u001b[1;33m\u001b[0m\u001b[1;33m\u001b[0m\u001b[0m\n\u001b[0;32m     45\u001b[0m \u001b[1;33m\u001b[0m\u001b[0m\n\u001b[1;32m---> 46\u001b[1;33m \u001b[1;32mimport\u001b[0m \u001b[0mOpenSSL\u001b[0m\u001b[1;33m.\u001b[0m\u001b[0mSSL\u001b[0m\u001b[1;33m\u001b[0m\u001b[1;33m\u001b[0m\u001b[0m\n\u001b[0m\u001b[0;32m     47\u001b[0m \u001b[1;32mfrom\u001b[0m \u001b[0mcryptography\u001b[0m \u001b[1;32mimport\u001b[0m \u001b[0mx509\u001b[0m\u001b[1;33m\u001b[0m\u001b[1;33m\u001b[0m\u001b[0m\n\u001b[0;32m     48\u001b[0m \u001b[1;32mfrom\u001b[0m \u001b[0mcryptography\u001b[0m\u001b[1;33m.\u001b[0m\u001b[0mhazmat\u001b[0m\u001b[1;33m.\u001b[0m\u001b[0mbackends\u001b[0m\u001b[1;33m.\u001b[0m\u001b[0mopenssl\u001b[0m \u001b[1;32mimport\u001b[0m \u001b[0mbackend\u001b[0m \u001b[1;32mas\u001b[0m \u001b[0mopenssl_backend\u001b[0m\u001b[1;33m\u001b[0m\u001b[1;33m\u001b[0m\u001b[0m\n",
      "\u001b[1;32mC:\\ProgramData\\Anaconda3\\lib\\site-packages\\OpenSSL\\__init__.py\u001b[0m in \u001b[0;36m<module>\u001b[1;34m\u001b[0m\n\u001b[0;32m      6\u001b[0m \"\"\"\n\u001b[0;32m      7\u001b[0m \u001b[1;33m\u001b[0m\u001b[0m\n\u001b[1;32m----> 8\u001b[1;33m \u001b[1;32mfrom\u001b[0m \u001b[0mOpenSSL\u001b[0m \u001b[1;32mimport\u001b[0m \u001b[0mcrypto\u001b[0m\u001b[1;33m,\u001b[0m \u001b[0mSSL\u001b[0m\u001b[1;33m\u001b[0m\u001b[1;33m\u001b[0m\u001b[0m\n\u001b[0m\u001b[0;32m      9\u001b[0m from OpenSSL.version import (\n\u001b[0;32m     10\u001b[0m     \u001b[0m__author__\u001b[0m\u001b[1;33m,\u001b[0m \u001b[0m__copyright__\u001b[0m\u001b[1;33m,\u001b[0m \u001b[0m__email__\u001b[0m\u001b[1;33m,\u001b[0m \u001b[0m__license__\u001b[0m\u001b[1;33m,\u001b[0m \u001b[0m__summary__\u001b[0m\u001b[1;33m,\u001b[0m \u001b[0m__title__\u001b[0m\u001b[1;33m,\u001b[0m\u001b[1;33m\u001b[0m\u001b[1;33m\u001b[0m\u001b[0m\n",
      "\u001b[1;32mC:\\ProgramData\\Anaconda3\\lib\\site-packages\\OpenSSL\\crypto.py\u001b[0m in \u001b[0;36m<module>\u001b[1;34m\u001b[0m\n\u001b[0;32m   1551\u001b[0m \u001b[1;33m\u001b[0m\u001b[0m\n\u001b[0;32m   1552\u001b[0m \u001b[1;33m\u001b[0m\u001b[0m\n\u001b[1;32m-> 1553\u001b[1;33m \u001b[1;32mclass\u001b[0m \u001b[0mX509StoreFlags\u001b[0m\u001b[1;33m(\u001b[0m\u001b[0mobject\u001b[0m\u001b[1;33m)\u001b[0m\u001b[1;33m:\u001b[0m\u001b[1;33m\u001b[0m\u001b[1;33m\u001b[0m\u001b[0m\n\u001b[0m\u001b[0;32m   1554\u001b[0m     \"\"\"\n\u001b[0;32m   1555\u001b[0m     \u001b[0mFlags\u001b[0m \u001b[1;32mfor\u001b[0m \u001b[0mX509\u001b[0m \u001b[0mverification\u001b[0m\u001b[1;33m,\u001b[0m \u001b[0mused\u001b[0m \u001b[0mto\u001b[0m \u001b[0mchange\u001b[0m \u001b[0mthe\u001b[0m \u001b[0mbehavior\u001b[0m \u001b[0mof\u001b[0m\u001b[1;33m\u001b[0m\u001b[1;33m\u001b[0m\u001b[0m\n",
      "\u001b[1;32mC:\\ProgramData\\Anaconda3\\lib\\site-packages\\OpenSSL\\crypto.py\u001b[0m in \u001b[0;36mX509StoreFlags\u001b[1;34m()\u001b[0m\n\u001b[0;32m   1571\u001b[0m     \u001b[0mNOTIFY_POLICY\u001b[0m \u001b[1;33m=\u001b[0m \u001b[0m_lib\u001b[0m\u001b[1;33m.\u001b[0m\u001b[0mX509_V_FLAG_NOTIFY_POLICY\u001b[0m\u001b[1;33m\u001b[0m\u001b[1;33m\u001b[0m\u001b[0m\n\u001b[0;32m   1572\u001b[0m     \u001b[0mCHECK_SS_SIGNATURE\u001b[0m \u001b[1;33m=\u001b[0m \u001b[0m_lib\u001b[0m\u001b[1;33m.\u001b[0m\u001b[0mX509_V_FLAG_CHECK_SS_SIGNATURE\u001b[0m\u001b[1;33m\u001b[0m\u001b[1;33m\u001b[0m\u001b[0m\n\u001b[1;32m-> 1573\u001b[1;33m     \u001b[0mCB_ISSUER_CHECK\u001b[0m \u001b[1;33m=\u001b[0m \u001b[0m_lib\u001b[0m\u001b[1;33m.\u001b[0m\u001b[0mX509_V_FLAG_CB_ISSUER_CHECK\u001b[0m\u001b[1;33m\u001b[0m\u001b[1;33m\u001b[0m\u001b[0m\n\u001b[0m\u001b[0;32m   1574\u001b[0m \u001b[1;33m\u001b[0m\u001b[0m\n\u001b[0;32m   1575\u001b[0m \u001b[1;33m\u001b[0m\u001b[0m\n",
      "\u001b[1;31mAttributeError\u001b[0m: module 'lib' has no attribute 'X509_V_FLAG_CB_ISSUER_CHECK'"
     ]
    }
   ],
   "source": [
    "from tensorflow.keras.models import Sequential\n",
    "from tensorflow.keras.layers import LSTM, Dense, Dropout\n",
    "\n",
    "# Build LSTM model\n",
    "model = Sequential()\n",
    "model.add(LSTM(units=64, activation='relu', input_shape=(X_train.shape[1], X_train.shape[2])))\n",
    "model.add(Dropout(0.2))  # Optional: helps prevent overfitting\n",
    "model.add(Dense(1))  # Predicting a single value (y)\n",
    "\n",
    "# Compile model\n",
    "model.compile(optimizer='adam', loss='mean_squared_error')\n",
    "\n",
    "# Train model\n",
    "history = model.fit(X_train, y_train, epochs=50, batch_size=16, validation_split=0.1, verbose=1)\n"
   ]
  }
 ],
 "metadata": {
  "kernelspec": {
   "display_name": "Python 3 (ipykernel)",
   "language": "python",
   "name": "python3"
  },
  "language_info": {
   "codemirror_mode": {
    "name": "ipython",
    "version": 3
   },
   "file_extension": ".py",
   "mimetype": "text/x-python",
   "name": "python",
   "nbconvert_exporter": "python",
   "pygments_lexer": "ipython3",
   "version": "3.12.7"
  }
 },
 "nbformat": 4,
 "nbformat_minor": 4
}
